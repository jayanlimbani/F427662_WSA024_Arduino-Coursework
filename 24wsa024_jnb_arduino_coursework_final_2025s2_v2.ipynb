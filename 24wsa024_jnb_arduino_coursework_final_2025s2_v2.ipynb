{
  "cells": [
    {
      "cell_type": "markdown",
      "metadata": {
        "id": "view-in-github",
        "colab_type": "text"
      },
      "source": [
        "<a href=\"https://colab.research.google.com/github/jayanlimbani/F427662_WSA024_Arduino-Coursework/blob/main/24wsa024_jnb_arduino_coursework_final_2025s2_v2.ipynb\" target=\"_parent\"><img src=\"https://colab.research.google.com/assets/colab-badge.svg\" alt=\"Open In Colab\"/></a>"
      ]
    },
    {
      "cell_type": "markdown",
      "metadata": {
        "id": "JlTw57TGQpkj"
      },
      "source": [
        "# **24WSA024 Coursework for Arduino Programming**\n"
      ]
    },
    {
      "cell_type": "markdown",
      "metadata": {
        "id": "zpkdxFaaaFI2"
      },
      "source": [
        "# **Academic Integrity**\n",
        "\n",
        "**Your coursework submission must be your own work**\n",
        "\n",
        "Academic misconduct will not be tolerated. Students should be familiar with [regulation XVIII (academic misconduct)](https://www.lboro.ac.uk/governance/regulations/18/) also detailed in the relevant section in the [student handbook](https://www.lboro.ac.uk/students/handbook/assessments/exams-information/academic-misconduct/).\n",
        "\n",
        "For coursework, students should be aware of misconduct section vii:\n",
        "\n",
        "*collusion – working with another student on an assessment which is intended to be the student’s own work. This includes submitting assessed work as the student’s own of which the student is not the sole author (because of the collusion with another student), or providing material which is submitted by another student as their own.*\n"
      ]
    },
    {
      "cell_type": "markdown",
      "metadata": {
        "id": "5lUtnFWG7U-8"
      },
      "source": [
        "# **Student Details**\n",
        "\n",
        "Please fill in the following variables in the code cell below"
      ]
    },
    {
      "cell_type": "code",
      "execution_count": null,
      "metadata": {
        "colab": {
          "base_uri": "https://localhost:8080/"
        },
        "id": "RJREWov87gk_",
        "outputId": "3beaa043-0754-400e-edf1-d6664bcbed70"
      },
      "outputs": [
        {
          "name": "stdout",
          "output_type": "stream",
          "text": [
            "firstname       not entered\n",
            "surname         not entered\n",
            "student_id      not entered\n"
          ]
        }
      ],
      "source": [
        "#@title student details\n",
        "coursework_on = False\n",
        "# do not write above this line ##########################################\n",
        "# provide text to assign the following variables to your names and id:\n",
        "\n",
        "firstname  = 'Jayan'\n",
        "surname    = 'Limbani'\n",
        "student_id = 'F427662'\n",
        "controller_name = 'SmartTemperatureMonitor'      # make a name up for the robot controller\n",
        "\n",
        "# do not write below this line ##########################################\n",
        "\n",
        "details = {'firstname': firstname, 'surname': surname, 'student_id': student_id }\n",
        "for key, value in details.items():\n",
        "  print (f\"{key:<15} {value if value else 'not entered'}\")\n",
        "if any([not(v) for v in details.values()]) and coursework_on:\n",
        "  raise Exception(\"PLEASE SUPPLY YOUR STUDENT DETAILS\")\n"
      ]
    },
    {
      "cell_type": "markdown",
      "metadata": {
        "id": "BBsOJYoBJpwt"
      },
      "source": [
        "#**Coursework**\n",
        "\n",
        "This Notebook contains your coursework. It contains details of the tasks to complete and submission details.\n",
        "\n",
        "**Introduction**\n",
        "\n",
        "In this coursework, students are required to design a **low-power, dynamically optimized temperature monitoring system** using **Arduino**. The objective is to create an **efficient and responsive system** that minimizes **energy consumption** while ensuring **effective memory management**.\n",
        "\n",
        "A **smart home environment** relies on a **temperature monitoring system** to regulate room temperature. The system uses a **temperature sensor** to collect real-time data, which is processed by an **Arduino-based controller**. The **CPU** decides whether to activate a **heater** based on temperature readings. This decision is crucial in maintaining a comfortable indoor environment while ensuring energy efficiency. However, if the system continuously samples temperature data at a high frequency, it results in excessive energy consumption. This is because the processor remains active, consuming power even when temperature fluctuations are minimal. Additionally, frequent sensor readings generate a large volume of data, increasing memory usage and slowing down processing. To address these inefficiencies, the system employs dynamic sampling adjustments, allowing it to switch between different power modes based on the rate of temperature change.\n",
        "\n",
        "**Your Deliverables**\n",
        "\n",
        "There are **four** main deliverables for this coursework as follows:\n",
        "\n",
        "1. **Version Control** - Use of Git/Github\n",
        "2. **Arduino Basics** – Learn Arduino basics, review provided C code, and answer conceptual questions.\n",
        "3. **Data Analytics**  –Collect temperature data, store it efficiently, and analyze trends using Python, i.e.,visualising data by tabulation and/or using matplotlib\n",
        "4. **Performance Optimization** – Implement adaptive sampling based on temperature changes to optimize power usage and memory storage.\n",
        "\n",
        "These are further defined and explained in the specific corresponding coursework releases along with the marking criteria. Please ensure you follow the explicit instructions, and where directed ensure specific variable, function or object names and named/titled code cells are used.\n"
      ]
    },
    {
      "cell_type": "markdown",
      "metadata": {
        "id": "dLpFC8_0Jpww"
      },
      "source": [
        "\n",
        "###**Marking Schema**\n",
        "\n",
        "Marks for each section are assigned as follows. A detailed breakdown is provided in the associated sections below.\n",
        "\n",
        "| **Section**           | **Description**                                | **Marks** |\n",
        "|----------------------|---------------------------------------------|---------|\n",
        "| **Version Control**   | Use of Git/Github. | **15** |\n",
        "| **Arduino Basics**   | Understanding Arduino fundamentals, reviewing provided C code, and answering conceptual questions. | **20** |\n",
        "| **Data Analytics**   | Storing temperature data, analyzing trends, and producing tabular and graphical outputs. | **30** |\n",
        "| **Performance Optimization** | Implementing adaptive sampling and optimizing energy efficiency in real-time temperature monitoring. | **35** |\n",
        "\n"
      ]
    },
    {
      "cell_type": "markdown",
      "metadata": {
        "id": "oMRS5hkC5H7w"
      },
      "source": [
        "###**How to Start**\n",
        "\n",
        "It is important to approach this coursework methodically. A key learning outcome is to understand how to integrate hardware and software in an embedded system, as well as how to develop and optimize an existing system. This does not mean that you must fully understand every line of the provided Arduino code before starting, so do not feel overwhelmed.\n",
        "\n",
        "First, begin by setting up the Arduino hardware. The system consists of an Arduino board connected to a temperature sensor. You should familiarize yourself with the correct wiring configuration, ensuring that the sensor's **VCC**, **GND**, and **Data Pin** are connected properly to the Arduino. Make sure to verify that the connections are stable before proceeding.\n",
        "\n",
        "Second, study the provided C code that allows the Arduino to collect temperature readings. Identify key functions responsible for reading sensor data. Try modifying different parameters such as the sampling interval to observe how the system behaves. Work through this step interactively, compile the code, run it on the Arduino, and monitor the output in the serial console.\n",
        "\n",
        "Next, analyze how the collected data is stored. The system logs temperature readings and outputs them directly to a file on the computer through the serial connection. This file will later be used for analysis in Python. You should understand how the Arduino writes data to the file and how Python will be used to process it.\n",
        "\n",
        "Once data is collected, students will implement the **Discrete Fourier Transform (DFT)** in C to analyze the dominant temperature change frequencies. This analysis will allow the system to adjust the sampling rate dynamically, ensuring efficient energy use by detecting when high-frequency temperature variations occur.\n",
        "\n",
        "Finally, after gaining a good understanding of how the system operates, move on to the optimization task. The goal is to implement an adaptive sampling strategy to adjust the system’s power consumption based on temperature fluctuations. The more stable the temperature, the less frequent the readings should be. This ensures that the system runs efficiently without unnecessary energy waste.\n",
        "\n",
        "Approach this coursework iteratively, test your implementation, analyze the results, and refine your design as needed. By doing so, you will develop both a theoretical and practical understanding of embedded system optimization.\n",
        "\n",
        "\n"
      ]
    },
    {
      "cell_type": "markdown",
      "metadata": {
        "id": "yyqr3Qnn4GZu"
      },
      "source": [
        "## **The Temperature Monitoring System and Its Three Modes**\n",
        "\n",
        "The temperature monitoring system acts as an intelligent **environmental regulator**, which continuously assesses temperature fluctuations to determine the optimal response. It operates using an **adaptive control mechanism**, adjusting its **sampling rate and power mode** dynamically to balance energy efficiency and data accuracy.\n",
        "\n",
        "The **sampling rate** defines how often temperature data is collected. If a fixed high **sampling rate** is used, it leads to **unnecessary energy consumption and excessive data storage**. **Sampling Frequency** refers to the number of samples taken per second when measuring a signal, which is expressed in Hertz (Hz), where 1 Hz = 1 sample per second. For example: If a system samples temperature data at 10 Hz, it means 10 temperature readings are taken every second.\n",
        "\n",
        "The system features **three operating modes**, each designed to optimize energy use and performance:\n",
        "\n",
        "1. **Active Mode**: The system enters this mode when **rapid temperature fluctuations** are detected. In this state, the **sampling frequency is high**, allowing for quick responses to environmental changes. This ensures that the system can react promptly, such as turning on a heater when a sudden drop in temperature occurs.\n",
        "\n",
        "2. **Idle Mode**: When **temperature fluctuations are minor**, the system reduces its sampling frequency to a moderate level. This prevents unnecessary power consumption while still maintaining sufficient responsiveness to gradual temperature changes.\n",
        "\n",
        "3. **Power Down Mode**: If the temperature remains **stable** over an extended period, the system further reduces its sampling frequency to the lowest level. This significantly **minimizes power consumption**, allowing the system to run efficiently without excessive data logging or energy waste.\n",
        "\n",
        "Below is an **example** of the three modes, each with a different sampling frequency. The amount of stored temperature data depends on how often the system logs temperature readings.\n",
        "\n",
        "$$Table1$$\n",
        "\n",
        "| **Mode**              | **Sampling Rate**        | **Samples Per Hour** | **Samples Per Day** |\n",
        "|----------------------|------------------------|---------------------|-------------------|\n",
        "| **Power Down Mode**   | **1 sample per 30 sec** | 120                 | **2,880 samples** |\n",
        "| **Idle Mode**        | **1 sample per 5 sec**  | 720                 | **17,280 samples** |\n",
        "| **Active Mode**      | **1 sample per 1 sec**  | 3,600               | **86,400 samples** |\n",
        "\n",
        "**Interpretation:**\n",
        "- If the system **stays in Active Mode**, it can generate up to **86,400 data points per day**, which may exceed storage capacity.\n",
        "- If the system **mostly stays in Power Down Mode**, it will store only **2,880 samples per day**, significantly reducing memory usage.\n",
        "- Switching between modes **reduces unnecessary logging**, ensuring **only important temperature variations** are recorded.\n",
        "\n",
        "These **three modes** allow the system to intelligently allocate resources, ensuring that energy is used only when necessary while still capturing relevant environmental data. The transition between modes is governed by **real-time analysis** of temperature trends, ensuring an efficient and adaptive monitoring process. To optimize energy efficiency, this coursework focuses on **dynamic sampling rate adjustments** based on temperature fluctuations."
      ]
    },
    {
      "cell_type": "markdown",
      "metadata": {
        "id": "1HLD8qTrJpw5"
      },
      "source": [
        "This coursework contains 4 Tasks. Read the details for each Task below."
      ]
    },
    {
      "cell_type": "markdown",
      "source": [],
      "metadata": {
        "id": "zK1ccSGiE23Q"
      }
    },
    {
      "cell_type": "markdown",
      "metadata": {
        "id": "Lp_7ypzrj_JN"
      },
      "source": [
        "# **Task 1: Version Control**\n",
        "This section is worth 15 marks. The learning objectives are to:\n",
        "* Provide you with a deep understanding of version control.\n",
        "* Learn specifically the use of Github and its integration with coding environments such as VSC or Colab\n",
        "* Develop transferable skills for future coding projects\n",
        "\n",
        "\n",
        "This task provides hands-on exercises to help students understand and troubleshoot common issues when working with GitHub, Google Colab, Codespaces, and Git branches. You will explore branch management rules in Git and learn how to resolve issues when deleting branches.\n",
        "\n",
        "\n",
        "Below you will see details of how to set up your account and four distinct elements to this exercise which also provide you with an assessment rubric.\n",
        "\n",
        "Please note that your Github repository should include this Jupyter notebook and any arduino code, if applicable."
      ]
    },
    {
      "cell_type": "markdown",
      "source": [
        "#### **GitHub Account**\n",
        "\n",
        "Using your **own** login credentials create a Github account. _**We advise you not to use you university password for other third party sites**_\n",
        "\n",
        "Create a **private** repository for your coursework project.\n",
        "\n",
        "Upload your Jupyter Notebook Coursework file(s) and create a `README.md` file to document your work. The README file **should** include:\n",
        "\n",
        "*   Your student ID\n",
        "*   A brief explanation of your project (your own style, if you have no idea, a report format would be acceptable)\n",
        "*   A description of the solution for each task (your own style)\n",
        "*   A list of the files in the repository and their purpose (your own style)\n",
        "\n",
        "**The format and details in the `README.md` file contribute to your coursework marks.**\n",
        "\n",
        " Share the repository with the instructor by **adding their university email as a collaborator**, rather than sharing your repository link via email directly.\n",
        "\n",
        "Python Coursework\n",
        "\n",
        "Add Philip (p.a.leicester@lboro.ac.uk) as a collaborator\n",
        "\n",
        "Arduino Coursework\n",
        "\n",
        "Add Wenheng (w.zhang2@lboro.ac.uk) as a collaborator\n",
        "\n",
        "Change the name of the shared repository as `Your_Student_ID_WSA024_Arduino/Python Coursework`. Note we will usually only check in on your Github at the end of the coursework.\n"
      ],
      "metadata": {
        "id": "1MhhqHouDNmu"
      }
    },
    {
      "cell_type": "markdown",
      "source": [
        "#### **Github Best Practice**\n",
        "\n",
        "You must research the use of Github for your project. For example you can\n",
        "\n",
        "* Use it merely as a cloud storage\n",
        "* Manage versions of your code save as new files\n",
        "* Use Git to manage code updates/modification in the same file allowing comparisons and code commits\n",
        "* manage branching and merging\n",
        "* Learn how to integrate it with your coding environment with Github desktop/website.\n",
        "* Create and manage related documentation such as release notes.\n",
        "\n",
        "*italicized text*\n",
        "Read about it\n",
        "\n",
        "Play with it!\n",
        "\n",
        "Use it!!!\n",
        "\n",
        "See the free [e-book](https://git-scm.com/book/en/v2)\n"
      ],
      "metadata": {
        "id": "LSSuajIWELBs"
      }
    },
    {
      "cell_type": "markdown",
      "metadata": {
        "id": "JEqHWdf-j_JP"
      },
      "source": [
        "### **Task 1.1: Authentication Issues in Google Colab [4 marks]**\n",
        "\n",
        "In this task, you will explore authentication issues that arise when saving a Jupyter Notebook from Google Colab to a private GitHub repository.\n",
        "\n",
        "Open [Google Colab](https://colab.research.google.com), upload your Jupyter Notebook coursework file. Click File > Save a copy in GitHub. Select your private repository as the destination. Ensure that the notebook is correctly saved in the GitHub repository. Based on your experience, fix the problem below.\n",
        "\n",
        "Considering a scenario that a student opens Google Colab and creates a new Jupyter Notebook. They try to save the notebook directly to GitHub but **cannot find their private repository**, only public repositories appear. What is the reason for this issue? How does Google Colab access repositories? What steps are needed to allow Google Colab to save notebooks to your private repositories? How can you verify that your authentication settings are working correctly? *Do not using CodeSpaces to solve this question.*\n"
      ]
    },
    {
      "cell_type": "markdown",
      "source": [
        "###**Task 1.2: Designing a GitHub Action for Automated Task Tracking [3 marks]**\n",
        "\n",
        "In this task, you will design a GitHub Action workflow that automatically verifies whether you complete the required Git tasks in Task 1.3 and Task 1.4 later. Instead of simply following a guide below, think critically about **what GitHub Actions should check** and **why this automation is useful**.\n"
      ],
      "metadata": {
        "id": "mR2ZE4JK6DOB"
      }
    },
    {
      "cell_type": "markdown",
      "source": [
        "**Step-by-Step Implementation Order**\n",
        "\n",
        "To begin, go to your GitHub repository. Create a directory for GitHub Actions (if it doesn't exist).\n",
        "\n",
        "To create a .github/workflows/ directory within their repository, in CodeSpaces using the command `mkdir -p .github/workflows`.\n",
        "\n",
        "Once the directory is set up, they need to create a new workflow file inside the `.github/workflows` using `touch .github/workflows/task_verification.yml`.\n",
        "\n",
        "This file will contain the workflow logic that automates the verification process.\n",
        "\n",
        "The next step is defining the workflow steps. Open the file `task_verification.yml` and paste the following YAML code.\n",
        "\n",
        "\n",
        "```yaml\n",
        "name: Verify Git Tasks\n",
        "\n",
        "on:\n",
        "  push:\n",
        "    branches:\n",
        "      - main\n",
        "  pull_request:\n",
        "    branches:\n",
        "      - main\n",
        "\n",
        "jobs:\n",
        "  check-tasks:\n",
        "    runs-on: ubuntu-latest\n",
        "    steps:\n",
        "      - name: Checkout Repository\n",
        "        uses: actions/checkout@v3\n",
        "\n",
        "      - name: Verify Task 1.3 (Branch Deletion)\n",
        "        run: |\n",
        "          if git branch -r | grep \"origin/test-branch\"; then\n",
        "            echo \"❌ Task 1.3: Test branch still exists. Please delete it.\"\n",
        "            exit 1\n",
        "          else\n",
        "            echo \"✅ Task 1.3: Test branch deleted successfully!\"\n",
        "          fi\n",
        "\n",
        "      - name: Verify Task 1.4 (Merge Conflict Resolution)\n",
        "        run: |\n",
        "          if git log --oneline | grep \"Resolved merge conflict in project-notes.md\"; then\n",
        "            echo \"✅ Task 1.4: Merge conflict resolved successfully!\"\n",
        "          else\n",
        "            echo \"❌ Task 1.4: No merge conflict resolution detected!\"\n",
        "            exit 1\n",
        "          fi\n",
        "\n",
        "```\n"
      ],
      "metadata": {
        "id": "irI6G6ufJCaf"
      }
    },
    {
      "cell_type": "markdown",
      "source": [
        "In above GitHub Actions workflow code, students should think critically about how the workflow will determine whether `test-branch` was deleted and how it will confirm the successful resolution of a merge conflict. The workflow should be designed to trigger automatically on `push` and `pull_request` events, ensuring that it runs every time a student pushes changes to the repository.\n",
        "\n",
        "After writing the workflow, the students need to commit and push it to GitHub using the following commands in Codespaces:\n",
        "\n",
        "```bash\n",
        "git add .github/workflows/task_verification.yml\n",
        "git commit -m \"Added GitHub Actions workflow for task verification\"\n",
        "git push origin main\n",
        "```\n"
      ],
      "metadata": {
        "id": "6ohVr62sJEwR"
      }
    },
    {
      "cell_type": "markdown",
      "source": [
        "Now, your GitHub Actions workflow is in place and ready to track progress.\n",
        "In task 1.3 and 1.4, students should think critically about how the workflow will determine whether `test-branch` was deleted and how it will confirm the successful resolution of a merge conflict. The workflow should be designed to trigger automatically on `push` and `pull_request` events, ensuring that it runs every time a student pushes changes to the repository."
      ],
      "metadata": {
        "id": "-DL2yk_GJG8O"
      }
    },
    {
      "cell_type": "markdown",
      "metadata": {
        "id": "dVMvDfA9j_JQ"
      },
      "source": [
        "### **Task 1.3: Unable to Delete a Branch [3 marks]**\n",
        "\n",
        "This task will help you understand why Git sometimes prevents you from deleting a branch. Now that the workflow built in 1.2 exists, students should attempt to delete a branch and GitHub Actions will check their progress.\n",
        "\n",
        "Following below steps, using CodeSpaces to create a new branch and delete it. In your GitHub, open **GitHub Codespaces** and navigate to your repository, create a new branch called `test-branch`, using\n",
        " ```bash\n",
        "   git checkout -b test-branch\n",
        "```\n",
        "Immediately try to delete it using\n",
        "```bash\n",
        "   git branch -d test-branch\n",
        "   ```\n",
        "Git will return an error message. What does this message mean? Think about why Git prevents you from deleting the branch. Think about how to properly delete a branch using CodeSpaces and apply the fix. Explain your solutions.\n"
      ]
    },
    {
      "cell_type": "markdown",
      "source": [
        "### **Task 1.4: Handling a Merge Conflict in Git [5 marks]**\n",
        "\n",
        "This task will guide you through intentionally creating a merge conflict in Git, analyzing the issue, and resolving it. By the end of this exercise, you will understand what causes a merge conflict, how to identify and analyze it, and how to resolve it efficiently in a collaborative version control workflow. **Instead of** modifying `README.md`, you will create a new markdown file to avoid interfering with important repository documentation.\n"
      ],
      "metadata": {
        "id": "mE1TouT9mEz2"
      }
    },
    {
      "cell_type": "markdown",
      "source": [
        "Start by opening GitHub Codespaces and navigating to your repository. Create a new branch by running `git checkout -b feature-branch`. Create a new markdown file named `project-notes.md` by running `echo \"Initial notes for the project.\" > project-notes.md`. Open the file in a text editor and modify its content by adding the line `\"This is an update from feature-branch.\"`, then save the file. Stage and commit the change using `git add project-notes.md` and `git commit -m \"Updated project-notes.md from feature-branch\"`. Push this branch to GitHub with git push origin feature-branch.\n",
        "\n",
        "Now, switch back to the main branch using `git checkout main` and create a markdown file named `project-notes.md` in the main branch. Modify the file by adding the line `\"This is an update from main.\"` and save the file. Commit the change using `git add project-notes.md` and `git commit -m \"Updated project-notes.md from main\"`, then push the changes with `git push origin main`. At this point, you have two separate changes in the same file, one in main and one in feature-branch.\n",
        "\n",
        "Attempt to merge feature-branch into main by running `git merge feature-branch`. Git will reject the merge and display an error indicating a merge conflict in project-notes.md. This occurs because the same file was modified differently in both branches, and Git does not know which version to keep.\n",
        "\n",
        "Think about how to solve the conflict using CodeSpaces, provide your git code\n",
        "of solving the conflict. After solve this conflict, commit message in CodeSpaces that says `\"Resolved merge conflict in project-notes.md\"`, and this action will be checked by the GitHub Actions in Task 1.2.\n",
        "\n",
        " What caused the merge conflict in this scenario? Why does Git prevent automatic merging when conflicts occur? How can you prevent merge conflicts when working in a team environment? What steps can you take to check for conflicts before merging changes? What are the consequences of forcing a push without resolving a merge conflict?"
      ],
      "metadata": {
        "id": "XmWIZCdTmgf4"
      }
    },
    {
      "cell_type": "markdown",
      "source": [
        " Once the workflow in Task 1.2 runs, the students should navigate to the Actions tab in GitHub to review the logs and verify if their implementation correctly tracks branch deletions and merge conflict resolutions in Task 1.3 and 1.4.\n",
        "\n",
        "1. Go to the GitHub repository.\n",
        "2. Click on the \"Actions\" tab (at the top of the repo).\n",
        "3. Look for the workflow named \"Verify Git Tasks\".\n",
        "4. Click on the latest run.\n",
        "5. Expand the logs for each step to see if the you deleted the test-branch or resolved the merge conflict.\n",
        "\n",
        "If everything was done correctly, you will see:\n",
        "*   ✅ Task 1.3: Test branch deleted successfully!\n",
        "\n",
        "*   ✅ Task 1.4: Merge conflict resolved successfully!\n"
      ],
      "metadata": {
        "id": "PXybAi0mA3Cc"
      }
    },
    {
      "cell_type": "markdown",
      "metadata": {
        "id": "xusUBNQzJpxB"
      },
      "source": [
        "# **Task 2: Arduino Temperature Sensor Data Collection**\n",
        "\n",
        "In this task, students will build an **Arduino-based temperature monitoring system** that collects and logs temperature data using the **Grove - Temperature Sensor V1.2**.\n",
        "\n",
        "The objective is to:\n",
        "\n",
        "1. **Set up the hardware** and connect the temperature sensor to the Arduino. Build communications between the sensor and the Arduino, to read real-time temperature values. **Task 1.1 [5 marks]**\n",
        "\n",
        "To complete this task, you need the following components:\n",
        "\n",
        "- **Arduino board**\n",
        "- **Grove Temperature Sensor**\n",
        "\n",
        "Connect the temperature sensor to the Arduino as follows:\n",
        "\n",
        "| **Grove Temperature Sensor Pin** | **Arduino Connection** |\n",
        "|-------------------------------|---------------------|\n",
        "| VCC                           | 5V                 |\n",
        "| GND                           | GND                |\n",
        "| Signal                        | A0 (Analog Pin)    |\n",
        "\n",
        "\n",
        "2. **Log the collected data** read and self-learn from the code below and the provided website, and understand how to process it for further analysis, the student also need to answer the multiple choice questions based on the understanding.\n"
      ]
    },
    {
      "cell_type": "markdown",
      "metadata": {
        "id": "wH_YC4eFJpxB"
      },
      "source": [
        "\n",
        "## **Provided Arduino Code**\n",
        "\n",
        "The following Arduino program is provided in order to enable you to get the temperature sensor working. It reads temperature values from the sensor and prints them to the **Serial Monitor**. You should download the Arduino IDE to run the code. The university computer Lab WPL107 installed the software, and you can also find it via [Arduino IDE](https://www.arduino.cc/en/software). The tutorials on using Arduino Software tools are available from: [Software tools](https://docs.arduino.cc/software/ide-v1/tutorials/Environment/). Connect your Arduino board and temperature sensor, then using Arduino IDE to run the code below to see how it works.\n",
        "\n",
        "The demo code is avaliable from [seedstudio](https://wiki.seeedstudio.com/Grove-Temperature_Sensor_V1.2)\n",
        "\n",
        "```c\n",
        "//\n",
        "// Loovee @ 2015-8-26\n",
        "\n",
        "#include <math.h>\n",
        "\n",
        "const int B = 4275000;            // B value of the thermistor\n",
        "const int R0 = 100000;            // R0 = 100k\n",
        "const int pinTempSensor = A0;     // Grove - Temperature Sensor connect to A0\n",
        "\n",
        "#if defined(ARDUINO_ARCH_AVR)\n",
        "#define debug  Serial\n",
        "#elif defined(ARDUINO_ARCH_SAMD) ||  defined(ARDUINO_ARCH_SAM)\n",
        "#define debug  SerialUSB\n",
        "#else\n",
        "#define debug  Serial\n",
        "#endif\n",
        "\n",
        "void setup()\n",
        "{\n",
        "    Serial.begin(9600);\n",
        "}\n",
        "\n",
        "void loop()\n",
        "{\n",
        "    int a = analogRead(pinTempSensor);\n",
        "\n",
        "    float R = 1023.0/a-1.0;\n",
        "    R = R0*R;\n",
        "\n",
        "    float temperature = 1.0/(log(R/R0)/B+1/298.15)-273.15; // convert to temperature via datasheet\n",
        "\n",
        "    Serial.print(\"temperature = \");\n",
        "    Serial.println(temperature);\n",
        "\n",
        "    delay(100);\n",
        "}\n",
        "```\n",
        "\n",
        "Read above code and learn from the provided website, then answer the following questions."
      ]
    },
    {
      "cell_type": "markdown",
      "metadata": {
        "id": "SnWt8AXTJpxD"
      },
      "source": [
        "## **📌 Task 2.1**\n",
        "\n",
        "**Read above code and learn from the provided website, then answer the following questions.**\n"
      ]
    },
    {
      "cell_type": "code",
      "execution_count": null,
      "metadata": {
        "colab": {
          "base_uri": "https://localhost:8080/"
        },
        "id": "PynY5L01JpxE",
        "outputId": "2fe030b5-34be-4296-e4c4-54b60407d164"
      },
      "outputs": [
        {
          "output_type": "stream",
          "name": "stdout",
          "text": [
            "a2_1_1     :'NTC Thermistor'\n",
            "a2_1_2     :'A raw voltage value (0-1023)'\n",
            "a2_1_3     :'To linearize the thermistor response using the Steinhart-Hart equation'\n",
            "a2_1_4     :'To initialize communication between Arduino and Serial Monitor'\n",
            "a2_1_5     :'To prevent excessive readings that flood the Serial Monitor'\n",
            "a2_1_6     :'The resistance of the thermistor'\n",
            "a2_1_7     :'The sensor will stop measuring temperature'\n",
            "a2_1_8     :'Stores the computed temperature in Celsius'\n",
            "a2_1_9     :'It represents the temperature coefficient of the thermistor'\n",
            "a2_1_10    :'The temperature reading becomes unstable or returns an error'\n",
            "a2_1_11    :'All of the above'\n",
            "a2_1_12    :'Use an SD card module'\n",
            "a2_1_13    :'Use Serial.print() with comma-separated values and save via Serial Monitor'\n",
            "a2_1_14    :'False'\n",
            "a2_1_15    :'Change `delay(100);` to `delay(2000);`'\n"
          ]
        }
      ],
      "source": [
        "#@title Answer 2.1 Grove Temperature Sensor Questions\n",
        "\n",
        "# Do not change the title above or duplicate this cell.\n",
        "# Do not change any of the variable names below or you may lose the marks\n",
        "# To answer a question, choose the correct dictionary key\n",
        "# and use it inside the dictionary lookup brackets.\n",
        "# do not write above this comment\n",
        "################################################################################\n",
        "\n",
        "# What type of sensor is the Grove Temperature Sensor?\n",
        "a2_1_1_ans = {0: \"unanswered\",\n",
        "               1: \"Thermocouple\",\n",
        "               2: \"NTC Thermistor\",\n",
        "               3: \"Infrared Sensor\",\n",
        "               4: \"Capacitive Sensor\"\n",
        "               }[2]\n",
        "\n",
        "# What does `analogRead(pinTempSensor);` return?\n",
        "a2_1_2_ans = {0: \"unanswered\",\n",
        "               1: \"A digital temperature value\",\n",
        "               2: \"A raw voltage value (0-1023)\",\n",
        "               3: \"A resistance value\",\n",
        "               4: \"A Fahrenheit reading\"\n",
        "               }[2]\n",
        "\n",
        "# Why do we use the logarithm function `log(R/R0)` in the calculation?\n",
        "a2_1_3_ans = {0: \"unanswered\",\n",
        "               1: \"To convert temperature into resistance\",\n",
        "               2: \"To linearize the thermistor response using the Steinhart-Hart equation\",\n",
        "               3: \"To amplify the sensor signal\",\n",
        "               4: \"To filter noise from the reading\"\n",
        "               }[2]\n",
        "\n",
        "# What is the purpose of `Serial.begin(9600);` in the setup function?\n",
        "a2_1_4_ans = {0: \"unanswered\",\n",
        "               1: \"To initialize communication between Arduino and Serial Monitor\",\n",
        "               2: \"To set the baud rate of the temperature sensor\",\n",
        "               3: \"To configure the analog pin\",\n",
        "               4: \"To calibrate the sensor\"\n",
        "               }[1]\n",
        "\n",
        "# Why is the delay of 100 milliseconds (`delay(100);`) used in the loop?\n",
        "a2_1_5_ans = {0: \"unanswered\",\n",
        "               1: \"To improve sensor accuracy\",\n",
        "               2: \"To prevent excessive readings that flood the Serial Monitor\",\n",
        "               3: \"To allow the sensor to cool down\",\n",
        "               4: \"To increase the sampling frequency\"\n",
        "               }[2]\n",
        "\n",
        "# What does the line `float R = 1023.0/a-1.0;` compute?\n",
        "a2_1_6_ans = {0: \"unanswered\",\n",
        "                1: \"The raw temperature value from the sensor\",\n",
        "                2: \"The resistance of the thermistor\",\n",
        "                3: \"The temperature in Fahrenheit\",\n",
        "                4: \"The ADC voltage value\"\n",
        "                }[2]\n",
        "\n",
        "# What will happen if the `analogRead(pinTempSensor);` function is removed from the loop?\n",
        "a2_1_7_ans = {0: \"unanswered\",\n",
        "                1: \"The sensor will stop measuring temperature\",\n",
        "                2: \"The Serial Monitor will still display correct readings\",\n",
        "                3: \"The temperature will increase\",\n",
        "                4: \"It will improve system performance\"\n",
        "                }[1]\n",
        "\n",
        "# What is the main function of the `float temperature` variable?\n",
        "a2_1_8_ans = {0: \"unanswered\",\n",
        "                1: \"Stores the raw ADC reading\",\n",
        "                2: \"Stores the computed temperature in Celsius\",\n",
        "                3: \"Stores the sensor calibration value\",\n",
        "                4: \"Stores the voltage reference value\"\n",
        "                }[2]\n",
        "\n",
        "# What is the role of the `B` constant in the formula?\n",
        "a2_1_9_ans = {0: \"unanswered\",\n",
        "                1: \"It represents the temperature coefficient of the thermistor\",\n",
        "                2: \"It is used to calibrate the sensor output\",\n",
        "                3: \"It defines the thermistor resistance at 0°C\",\n",
        "                4: \"It is used to scale the ADC reading\"\n",
        "                }[1]\n",
        "\n",
        "# What happens if the thermistor is disconnected?\n",
        "a2_1_10_ans = {0: \"unanswered\",\n",
        "                1: \"The temperature reading becomes zero\",\n",
        "                2: \"The temperature reading becomes unstable or returns an error\",\n",
        "                3: \"The Arduino stops working\",\n",
        "                4: \"The resistance reading becomes infinite\"\n",
        "                }[2]\n",
        "\n",
        "# Hard Question: How can we improve the accuracy of temperature readings?\n",
        "a2_1_11_ans = {0: \"unanswered\",\n",
        "                1: \"Use a moving average filter\",\n",
        "                2: \"Use a low-pass filter\",\n",
        "                3: \"Increase the resolution of ADC readings\",\n",
        "                4: \"All of the above\"\n",
        "                }[4]\n",
        "\n",
        "# Hard Question: What is the best way to store long-term temperature data?\n",
        "a2_1_12_ans = {0: \"unanswered\",\n",
        "                1: \"Use EEPROM\",\n",
        "                2: \"Use an SD card module\",\n",
        "                3: \"Use Serial Monitor only\",\n",
        "                4: \"Store in volatile memory\"\n",
        "                }[2]\n",
        "\n",
        "# What is the correct way to modify the code to log data in CSV format?\n",
        "a2_1_13_ans = {0: \"unanswered\",\n",
        "                1: \"Use Serial.print() with comma-separated values and save via Serial Monitor\",\n",
        "                2: \"Save data in JSON format\",\n",
        "                3: \"Use EEPROM memory to store structured data\",\n",
        "                4: \"Directly store in hexadecimal format\"\n",
        "                }[1]\n",
        "\n",
        "# True or False: The sensor always gives perfect readings without any noise.\n",
        "a2_1_14_ans = {0: \"unanswered\",\n",
        "                1: \"True\",\n",
        "                2: \"False\"\n",
        "                }[2]\n",
        "\n",
        "# What modification can be made to take temperature readings every 2 seconds instead of 100ms?\n",
        "a2_1_15_ans = {0: \"unanswered\",\n",
        "                1: \"Change `delay(100);` to `delay(2000);`\",\n",
        "                2: \"Change `Serial.begin(9600);` to `Serial.begin(4800);`\",\n",
        "                3: \"Modify the B value in the formula\",\n",
        "                4: \"Increase the ADC resolution\"\n",
        "                }[1]\n",
        "\n",
        "# do not write below this comment ##############################################\n",
        "# You may get a zero mark if this cell does not run.\n",
        "# You can run the cell to check it and your answers.\n",
        "\n",
        "a1p1_answers = [\n",
        "    a2_1_1_ans, a2_1_2_ans, a2_1_3_ans, a2_1_4_ans, a2_1_5_ans,\n",
        "    a2_1_6_ans, a2_1_7_ans, a2_1_8_ans, a2_1_9_ans, a2_1_10_ans,\n",
        "    a2_1_11_ans, a2_1_12_ans, a2_1_13_ans, a2_1_14_ans, a2_1_15_ans\n",
        "]\n",
        "\n",
        "print(\"\\n\".join([ f\"{'a2_1_' + str(i):<10} :\"  +   repr(a) for i, a in enumerate(a1p1_answers,1)]))\n",
        "\n",
        "# 15 Marks (1 per question)\n"
      ]
    },
    {
      "cell_type": "markdown",
      "metadata": {
        "id": "eZVsUNYmJpxH"
      },
      "source": [
        "# **Task 3: Data Analysis Using Discrete Fourier Transform (DFT)**\n",
        "\n",
        "In this task, students will **analyse temperature sensor data** by applying the **Discrete Fourier Transform (DFT)**.\n",
        "\n",
        "The objective is to:\n",
        "\n",
        "1. **Understanding the DFT function**, **applying the DFT on collected data** to analyze the frequency components.\n",
        "\n",
        "2. **Implement functions** for temperature collection and data transmission.\n",
        "\n",
        "3. **Store the collected time-domain data and transferred frequency domain data** in a .CSV file.\n",
        "\n",
        "4. **Visualizing the data** by plotting both **time-domain** and **frequency-domain** graphs in Python.\n",
        "\n",
        "**Please follow specific instructions below for including your Python elements in this workbook**\n"
      ]
    },
    {
      "cell_type": "markdown",
      "metadata": {
        "id": "9zYfCw0dJpxI"
      },
      "source": [
        "### **Understanding the Discrete Fourier Transform (DFT) Function**\n",
        "\n",
        "Before implementing the **DFT function**, students need to self-study the theroy below to understand how the **Discrete Fourier Transform (DFT)** works and how to apply it to temperature data.\n",
        "\n",
        "#### **Concept of DFT**\n",
        "The **Discrete Fourier Transform (DFT)** converts a **time-domain signal** (temperature readings over time) into a **frequency-domain representation** (how frequently the temperature changes).\n",
        "\n",
        "The formula for computing the magnitude of the frequency compinents is:\n",
        "\n",
        "$$X[k] = \\sum_{n=0}^{N-1} x[n] \\cdot e^{-j 2\\pi k n / N} \\text{(eq.3.1)}$$\n",
        "\n",
        "Where:\n",
        "- $X[k]$ = Frequency component at index $ k $\n",
        "- $ x[n] $ = Temperature data at index $ n $\n",
        "- $ N $ = Total number of samples\n",
        "- $k $ = Frequency index (ranging from $0 $ to $ N-1 $ )\n",
        "- $ j $ = Imaginary unit $ \\sqrt{-1}$\n",
        "\n",
        "\n",
        "The index \\( k \\) in the DFT output represents the frequency component of the original signal, but to obtain actual frequency values in Hz, we use the following equation:\n",
        "\n",
        "$$f_k = \\frac{k \\cdot f_s}{N} \\quad \\text{(eq.3.2)}$$\n",
        "\n",
        "where:\n",
        "- $ f_k $ is the frequency corresponding to index $ k$.\n",
        "- $ f_s $ is the sampling frequency (in Hz).\n",
        "- $ N $ is the total number of samples.\n",
        "\n",
        "Since **Arduino does not support complex numbers**, so we implement the real and imaginary parts using two arrays:\n",
        "- **Real part:** Stores the cosine components of the transformation.\n",
        "\n",
        "$$ \\text{real}[k] = \\sum_{n=0}^{N-1} x[n] \\cdot \\cos\\left(\\frac{2\\pi k n}{N}\\right) (eq.3.3)$$\n",
        "\n",
        "- **Imaginary part:** Stores the sine components.\n",
        "\n",
        "$$ \\text{imag}[k] = -\\sum_{n=0}^{N-1} x[n] \\cdot \\sin\\left(\\frac{2\\pi k n}{N}\\right) (eq.3.4)$$\n",
        "\n",
        "- The magnitude of the frequency components is then calculated as:\n",
        "\n",
        "$$ \\text{Magnitude}[k] = \\sqrt{\\text{real}[k]^2 + \\text{imag}[k]^2}   (eq.3.5) $$\n",
        "\n",
        "\n",
        "\n",
        "---"
      ]
    },
    {
      "cell_type": "markdown",
      "metadata": {
        "id": "w180ZKcBJpxJ"
      },
      "source": [
        "### **📌 Task 3: Implementing Functions in Arduino IDE**\n",
        "\n",
        "This sections sets out your tasks for coding the arduino using the standard Arduino IDE. Insert your final code for this task 3 in to the code cell below titled 'task 3 Arduino Code'\n",
        "\n",
        "#### **Task 3.1**\n",
        "Based on the provided code in Task 2, rewrite it by introducing a function called `collect_temperature_data()` to collect the temperature from the Grove Temperature Sensor for around 3 minutes, and save it in an array for DFT processing later. Ensure the loop function calls `collect_temperature_data()` correctly. The function should use suitable sampling intervals for collecting data. You can assume we are in the active mode, the sampling rate as Table 1 (see above).\n",
        "\n",
        "**Hint:** Consider how to manage **fixed sampling intervals** using `delay()` to maintain accurate sampling.\n",
        "\n",
        "**(3 Marks)**  \n",
        "\n",
        "---\n",
        "\n",
        "#### **Task 3.2**\n",
        "Write a function called `apply_dft()` that applies Discrete Fourier Transform (DFT) in eq.3.1 - eq.3.5 on the collected temperature data in Task 3.1 to convert the signal into frequency-domain components. The function should return the computed frequency (eq.3.2) as a **pointer**. The magnitude of the frequency components should be **calculated and stored** as eq.3.5.\n",
        "\n",
        "**(6 Marks)**  \n",
        "\n",
        "---\n",
        "\n",
        "#### **Task 3.3**\n",
        "Write a function called `send_data_to_pc()` that sends time-domain and frequency-domain data via the Serial Monitor. The function should print time-domain temperature values. Compute the DFT magnitude spectrum and send the computed frequency values. Send frequency-domain data to the Serial Monitor for further analysis.\n",
        "\n",
        "**Hint:** The format should be **Time, Temperature, Frequency, Magnitude**.  \n",
        "\n",
        "**(3 Marks)**  \n",
        "\n",
        "---\n",
        "\n",
        "#### **Task 3.4**\n",
        "Write a function `decide_power_mode()` that determines whether the system should **operate in Active, Idle, or Power-down mode** based on the collected temperature in Task 3.1 and calculated average temperature fluctuation frequency of Task 3.2.\n",
        "\n",
        "If the average frequency is> 0.5 Hz, use a high sampling rate (Active Mode).\n",
        "If 0.1 Hz < average frequency ≤ 0.5 Hz, use a medium sampling rate (Idle Mode).\n",
        "If the average frequency is ≤ 0.1 Hz, switch to Power-down Mode (low sampling rate to conserve energy).\n",
        "\n",
        "The function should **return a mode indicator** (`ACTIVE`, `IDLE`, or `POWER_DOWN`) based on the computed frequency.\n",
        "\n",
        "**(6 Marks)**  \n",
        "\n",
        "---\n",
        "\n",
        "#### **Task 3.5**\n",
        "**Save the time-domain and frequency-domain data in a CSV file.**   \n",
        "\n",
        "The CSV file should store Four columns: **time in the first column, temperature values over 3 minutes in the second column, frequency components in the third column, and corresponding magnitude values in the fourth column**. The file should be named `threeminstemperature_Student_ID.csv`.\n",
        "\n",
        "**(5 Marks)**\n",
        "\n",
        "---\n",
        "\n",
        "#### **Task 3.6**\n",
        "After storing the temperature data in the .CSV file, use Python to read and visualize the saved data in the .CSV document and plot the **frequency components under the frequency domain**, and the 3-minute temperature under the time domain. Discuss your findings in the above figures.  \n",
        "\n",
        "**Hint:** This part should be programmed using Python!  \n",
        "\n",
        "\n",
        "**(7 Marks)**\n",
        "\n",
        "\n"
      ]
    },
    {
      "cell_type": "code",
      "source": [
        "#@title Answer Tasks 3.1 to 3.4 Arduino Code\n",
        "%%script false --no-raise-error\n",
        "'''\n",
        "paste your arduino code here for your assessment. Failure to copy your code here\n",
        "may result in zero marks\n",
        "'''\n",
        "# Note this cell should not be run\n",
        "\n",
        "# do not write or change above this line or duplicate this code cell\n",
        "################################################################################\n",
        "\n",
        "# include <math.h>\n",
        "\n",
        "const int B = 4275000;            // B value of the thermistor\n",
        "const int R0 = 100000;            // R0 = 100k\n",
        "const int pinTempSensor = A0;     // Grove - Temperature Sensor connect to A0\n",
        "\n",
        "const int Number_of_Samples = 180;\n",
        "\n",
        "# if defined(ARDUINO_ARCH_AVR)\n",
        "# define debug  Serial\n",
        "# elif defined(ARDUINO_ARCH_SAMD) ||  defined(ARDUINO_ARCH_SAM)\n",
        "# define debug  SerialUSB\n",
        "# else\n",
        "# define debug  Serial\n",
        "# endif\n",
        "\n",
        "float tempData[Number_of_Samples];\n",
        "float magnitude[Number_of_Samples];\n",
        "\n",
        "void collect_temperature_data();\n",
        "float* apply_dft();\n",
        "int decide_power_mode();\n",
        "void send_data_to_pc();\n",
        "void save_to_csv();\n",
        "\n",
        "void setup(){\n",
        "    Serial.begin(9600);\n",
        "}\n",
        "\n",
        "void loop(){\n",
        "    collect_temperature_data();\n",
        "\n",
        "    float* frequencies = apply_dft();\n",
        "    send_data_to_pc();\n",
        "    int mode = decide_power_mode();\n",
        "    Serial.print(F(\"Selected Mode: \"));\n",
        "    switch (mode) {\n",
        "        case 0:\n",
        "            Serial.println(F(\"Active Mode\"));\n",
        "            break;\n",
        "        case 1:\n",
        "            Serial.println(F(\"Idle Mode\"));\n",
        "            break;\n",
        "        case 2:\n",
        "            Serial.println(F(\"Power Down Mode\"));\n",
        "            break;\n",
        "    }\n",
        "    while(1);\n",
        "}\n",
        "\n",
        "void collect_temperature_data(){\n",
        "\n",
        "  Serial.println(F(\"Collecting Temperature\"));\n",
        "   for(int i = 0; i < Number_of_Samples; i++){\n",
        "    int a = analogRead(pinTempSensor);\n",
        "\n",
        "    if (a == 0) {\n",
        "    Serial.println(\"Analog Read Error\");\n",
        "    tempData[i] = 0;\n",
        "    continue;\n",
        "}\n",
        "    float R = 1023.0/a-1.0;\n",
        "    R = R0*R;\n",
        "\n",
        "    float temperature = 1.0/(log(R/R0)/B+1/298.15)-273.15; // convert to temperature via datasheet\n",
        "\n",
        "    tempData[i] = temperature;\n",
        "    delay(100);\n",
        "\n",
        "   }\n",
        "\n",
        "    Serial.print(F(\"Checking State....\\n\"));\n",
        "    Serial.flush();\n",
        "}\n",
        "\n",
        "float* apply_dft(){\n",
        "\n",
        "  static float frequencies[1];\n",
        "\n",
        " for (int k = 0; k < Number_of_Samples; k++) {\n",
        "          float real = 0.0;\n",
        "          float imag = 0.0;\n",
        "\n",
        "        for (int n = 0; n < Number_of_Samples; n++) {\n",
        "            float angle = 2.0 * PI * k * n / Number_of_Samples;\n",
        "            real += tempData[n] * cos(angle);\n",
        "            imag += tempData[n] * sin(angle);\n",
        "        }\n",
        "        magnitude[k] = sqrt(real * real + imag * imag);\n",
        "    }\n",
        "  return frequencies;\n",
        "}\n",
        "\n",
        "void send_data_to_pc(){\n",
        "\n",
        "  Serial.println(F(\"Time, Temperature, Frequency, Magnitude\"));\n",
        "\n",
        "    for (int i = 0; i < Number_of_Samples; i++) {\n",
        "        Serial.print(i);\n",
        "        Serial.print(\",\");\n",
        "        Serial.print(tempData[i]);\n",
        "        Serial.print(\", \");\n",
        "        Serial.print((float)i / Number_of_Samples, 6);\n",
        "        Serial.print(\", \");\n",
        "        Serial.println(magnitude[i]);\n",
        "    }\n",
        "}\n",
        "\n",
        "int decide_power_mode() {\n",
        "    float sumFrequency = 0;\n",
        "    int count = 0;\n",
        "\n",
        "    for (int k = 1; k < Number_of_Samples / 2; k++) {\n",
        "        float frequency = (float)k / Number_of_Samples;\n",
        "        if (magnitude[k] > 0.1) {\n",
        "            sumFrequency += frequency;\n",
        "            count++;\n",
        "        }\n",
        "    }\n",
        "\n",
        "    float averageFrequency = count > 0 ? sumFrequency / count : 0;\n",
        "\n",
        "    if (averageFrequency > 0.5) {\n",
        "        return 0; // ACTIVE\n",
        "    } else if (averageFrequency > 0.1) {\n",
        "        return 1; // IDLE\n",
        "    } else {\n",
        "        return 2; // POWER_DOWN\n",
        "    }\n",
        "}\n",
        "\n",
        "\n"
      ],
      "metadata": {
        "id": "u1ScSUWDOE_j"
      },
      "execution_count": 17,
      "outputs": []
    },
    {
      "cell_type": "code",
      "execution_count": null,
      "metadata": {
        "id": "1LSvYcJVJpxL"
      },
      "outputs": [],
      "source": [
        "#@title Answer for task 3.5\n",
        "\n",
        "# Explain your solution steps for Task 3.5 as a docstring below.\n",
        "# The title is already provided\n",
        "\n",
        "'''\n",
        "Explanation for Task 3.5\n",
        "\n",
        "1. Open excel and add DataStreamer as an add-ins.\n",
        "2. Change the Manage drop down to COM Add-ins.\n",
        "3. Select the COM Port than the arduino is connected to.\n",
        "4. Change the table column names to Time, Temperature, Frequency, and Magnitude Respectively.\n",
        "5. Start the Data stream and wait for it to collect the data.\n",
        "6. Save the file as threeminstemperature_Student_ID.csv.\n",
        "\n",
        "'''\n",
        "\n",
        "\n",
        "\n"
      ]
    },
    {
      "cell_type": "code",
      "execution_count": 7,
      "metadata": {
        "id": "BIe8JmUJJpxM",
        "outputId": "928e37c3-8b1f-4b59-e776-39f9a6636fc3",
        "colab": {
          "base_uri": "https://localhost:8080/",
          "height": 803
        }
      },
      "outputs": [
        {
          "output_type": "display_data",
          "data": {
            "text/plain": [
              "<Figure size 1000x400 with 1 Axes>"
            ],
            "image/png": "[encoded data removed]"
          },
          "metadata": {}
        },
        {
          "output_type": "display_data",
          "data": {
            "text/plain": [
              "<Figure size 1000x400 with 1 Axes>"
            ],
            "image/png": "[encoded data removed]"
          },
          "metadata": {}
        }
      ],
      "source": [
        "#@title Answer for task 3.6\n",
        "# Write your Python code here\n",
        "#\n",
        "# NOTE - Only this code cell and outputs will be assessed for task 3.6. Any\n",
        "# code you produce, including support functions or required imports must be in\n",
        "# this cell otherwise the assessment scripts might not be able to evaluate your\n",
        "# code.\n",
        "#\n",
        "# Note this cell must read your csv file uploaded with your submission and\n",
        "# should run!\n",
        "\n",
        "\n",
        "import pandas as pd\n",
        "import numpy as np\n",
        "import matplotlib.pyplot as plt\n",
        "from scipy.fft import fft, fftfreq\n",
        "\n",
        "# Load the CSV file.  Specify the correct path if needed.\n",
        "try:\n",
        "    df = pd.read_csv(\"/content/threeminstemperature_F427662.csv\")  # Changed to read_csv and .csv\n",
        "except FileNotFoundError:\n",
        "    print(\"Error: File not found. Please make sure the file is in the correct path.\")\n",
        "    # Create a dummy dataframe so the rest of the code doesn't break.\n",
        "    df = pd.DataFrame({'Time(S)': [0], 'Temperature ©': [0], 'Frequency (Hz)': [0], 'Magnitude ': [0]})\n",
        "    #exit() # Stop execution, or continue with dummy data for debugging\n",
        "except Exception as e:\n",
        "    print(f\"An error occurred while reading the CSV file: {e}\")\n",
        "    df = pd.DataFrame({'Time(S)': [0], 'Temperature ©': [0], 'Frequency (Hz)': [0], 'Magnitude ': [0]})\n",
        "\n",
        "# 1. Frequency Domain Plot: Frequency vs. Magnitude\n",
        "\n",
        "# Check if the columns exist\n",
        "if 'Frequency (Hz)' not in df.columns or 'Magnitude ' not in df.columns: # Added a space after Magnitude\n",
        "    print(\"Error: 'Frequency (Hz)' or 'Magnitude' columns not found in the CSV file.\") #changed to CSV\n",
        "    print(f\"The actual columns in the CSV file are: {df.columns.tolist()}\") # Added to print the actual columns\n",
        "    # Generate dummy plot\n",
        "    plt.figure(figsize=(10, 4))\n",
        "    plt.plot([0], [0])\n",
        "    plt.title(\"Frequency vs. Magnitude\")\n",
        "    plt.xlabel(\"Frequency\")\n",
        "    plt.ylabel(\"Magnitude\")\n",
        "    plt.show()\n",
        "\n",
        "else:\n",
        "    plt.figure(figsize=(10, 4))\n",
        "    plt.plot(df['Frequency (Hz)'], df['Magnitude ']) # Added a space after Magnitude\n",
        "    plt.title(\"Frequency vs. Magnitude\")\n",
        "    plt.xlabel(\"Frequency (Hz)\")\n",
        "    plt.ylabel(\"Magnitude\")\n",
        "    plt.grid(True)\n",
        "    plt.show()\n",
        "\n",
        "\n",
        "# 2. Time Domain Plot: 3-minute Temperature\n",
        "\n",
        "# Check if the columns exist\n",
        "if 'Time(S)' not in df.columns or 'Temperature ©' not in df.columns:\n",
        "    print(\"Error: 'Time(S)' or 'Temperature ©' columns not found in the CSV file.\") #changed to CSV\n",
        "    print(f\"The actual columns in the CSV file are: {df.columns.tolist()}\") # Added to print the actual columns\n",
        "    # Generate dummy plot\n",
        "    plt.figure(figsize=(10, 4))\n",
        "    plt.plot([0], [0])\n",
        "    plt.title(\"3-minute Temperature\")\n",
        "    plt.xlabel(\"Time (S)\")\n",
        "    plt.ylabel(\"Temperature ©\")\n",
        "    plt.show()\n",
        "else:\n",
        "    # Filter data for the first 3 minutes (180 seconds)\n",
        "    three_min_data = df[df['Time(S)'] <= 180]\n",
        "\n",
        "    plt.figure(figsize=(10, 4))\n",
        "    plt.plot(three_min_data['Time(S)'], three_min_data['Temperature ©'])\n",
        "    plt.title(\"3-minute Temperature\")\n",
        "    plt.xlabel(\"Time (seconds)\")\n",
        "    plt.ylabel(\"Temperature ©\")\n",
        "    plt.grid(True)\n",
        "    plt.show()\n",
        "\n",
        "\n",
        "# Adjust the file path for your .csv file.\n",
        "file_path = r\"C:\\Users\\jayan\\OneDrive\\Documents\\Loughborough\\P&SE\\C_Coursework\"\n",
        "\n",
        "\n"
      ]
    },
    {
      "cell_type": "markdown",
      "metadata": {
        "id": "orlSMw6xJpxM"
      },
      "source": [
        "# **Task 4: Adaptive Sampling Rate Optimization (35 marks)**\n",
        "\n",
        "In this task, students will develop an intelligent temperature monitoring system that dynamically adjusts its sampling rate and power mode based on real-time temperature variations. The system will progressively transition between three power modes: Active Mode, Idle Mode, and Power Down Mode to optimize energy consumption while ensuring accurate temperature tracking. The key challenge is to implement a two-stage decision process that determines both the appropriate power mode and the optimal sampling rate based on temperature trends and frequency analysis.\n",
        "\n",
        "Consider a scenario that the room temperature changes dynamically due to external factors (heater, air conditioner, or human influence).  \n",
        "Instead of using a fixed sampling rate in Task 3 and Table 1, your system should adjust its sampling rate dynamically based on observed temperature fluctuations.\n",
        "\n",
        "The system starts by collecting temperature data for one minute (one cycle) at an initial sampling rate (the students have the freedom to select the initial sampling rate). The collected data is then analyzed to determine whether temperature fluctuations are significant. This is done by computing the total difference between consecutive samples to assess how much the temperature changes over time. If the variation remains within a small predefined threshold (again, in the design, students need to define the threshold value based on their collected temperature data), the system switches to Idle Mode to reduce power consumption. If Idle Mode persists for five consecutive cycles, indicating long-term stability, the system enters Power Down Mode to further conserve energy. However, if a sudden temperature fluctuation occurs at any stage, the system immediately reactivates Active Mode to ensure accurate monitoring.  Additionally, Discrete Fourier Transform analysis is used to detect dominant frequency components, dynamically adjusting the sampling rate based on real-time temperature trends. This adaptive strategy prevents unnecessary high-frequency sampling when the environment remains stable, while ensuring quick responsiveness to sudden changes, ultimately balancing accuracy and power efficiency.\n",
        "\n",
        "To further refine the decision-making process, DFT extracts dominant frequency components from the temperature variations. By transforming the data into the frequency domain, the system can identify periodic patterns in temperature changes. The DC component (k = 0), representing the overall average temperature, should be ignored, and only frequency components relevant to temperature fluctuations should be considered. The dominant frequency will be used as a reference to adjust the sampling rate dynamically.\n",
        "\n",
        "Once the system determines whether to operate in Active, Idle, or Power Down Mode, the sampling rate must be adjusted dynamically. The dominant frequency extracted from apply_dft() in your Task 3 should be rewrite to guide this adjustment. The sampling rate must be at least twice the dominant frequency to satisfy **Nyquist’s sampling theorem** and avoid data loss. For instance, if the dominant frequency is 1.8 Hz, the sampling rate should be 3.6 Hz or higher. However, if temperature variations remain stable, the sampling rate should gradually decrease to minimize energy usage. The system must ensure the sampling rate remains within a predefined range, such as between 0.5 Hz and 4.0 Hz, to maintain efficiency.\n",
        "\n",
        "A future temperature variation trend must also be predicted using a moving average method. Students should track temperature variation trends over the last 5 to 10 monitoring cycles and compute a moving average based on the last 10 temperature differences. This prediction helps determine whether temperature fluctuations are increasing, decreasing, or remaining stable, which directly influences the choice of power mode. If the predicted variation is large, the system remains in Active Mode; if it is moderate, the system enters Idle Mode. If temperature fluctuations stay consistently low for five consecutive cycles, the system transitions into Power Down Mode to further conserve energy. To learn how to implementation of the moving average in Arduino, please refer to: https://www.aranacorp.com/en/implementation-of-the-moving-average-in-arduino/\n",
        "\n",
        "In addition to power mode optimization, students must also consider memory storage limitations. Since Arduino devices have limited RAM, inefficient storage can lead to system failures. Students must evaluate how memory is utilized in their implementation and identify ways to optimize storage.\n",
        "\n",
        "---\n",
        "\n",
        "### **Expected System Behavior**\n",
        "\n",
        "1. It **analyzes the variations of collected temperature** to determine if the temperature is fluctuating significantly.\n",
        "2. **DFT is applied** to find the **dominant frequency** of temperature variations.💡\n",
        "3. **The best power mode is selected** based on predicted variations.\n",
        "4. **Adjust the sampling rate dynamically** to reduce **power consumption** while maintaining accurate monitoring.\n",
        "5. A **future variation trend is predicted** using a moving average.\n",
        "6. Explain how memory is utilized in your implementation of Task 4. Are there any memory optimizations that could be made to reduce usage? What is the impact of storing large arrays in an Arduino environment? Provide a justified explanation and suggest at least one possible enhancement to improve memory efficiency in this coursework.\n",
        "\n",
        "\n",
        "---\n",
        "\n",
        "### **📌 Example of Sample Serial Outputs (Feel free to design your own outputs)**\n",
        "\n",
        "```\n",
        "Collecting temperature data for 1 minute...\n",
        "Predicted Variation: 4.20, Dominant Frequency: 1.80 Hz, New Sampling Rate: 2.70 Hz, Power Mode: ACTIVE\n",
        "\n",
        "Collecting temperature data for 1 minute...\n",
        "Predicted Variation: 1.80, Dominant Frequency: 1.00 Hz, New Sampling Rate: 1.00 Hz, Power Mode: IDLE\n",
        "\n",
        "Collecting temperature data for 1 minute...\n",
        "Predicted Variation: 0.40, Dominant Frequency: 0.30 Hz, New Sampling Rate: 0.50 Hz, Power Mode: POWER_DOWN\n"
      ]
    },
    {
      "cell_type": "code",
      "execution_count": null,
      "metadata": {
        "id": "Pd3IU2MFToXj"
      },
      "outputs": [],
      "source": [
        "#@title Answer for task 4.0\n",
        "%%script false --no-raise-error\n",
        "'''\n",
        "paste your task 4 arduino code here for your assessment. Failure to copy your\n",
        "code here may result in zero marks\n",
        "'''\n",
        "# Note this cell should not be run\n",
        "\n",
        "# do not write or change above this line or duplicate this code cell\n",
        "################################################################################\n",
        "\n",
        "\n"
      ]
    },
    {
      "cell_type": "markdown",
      "metadata": {
        "id": "C_J1g8jOwWui"
      },
      "source": [
        "## **Marking Criteria**\n",
        "\n",
        "There are 35/100 marks for this assessment section. Your submission will be awarded a descriptor category according to the following criteria.\n",
        "\n",
        "| Descriptor    | Description |\n",
        "|--------------|-------------|\n",
        "| Unacceptable | No meaningful attempt at optimizing sampling or adjusting power modes. |\n",
        "| Weak | Basic implementation of sampling adjustment without DFT analysis. |\n",
        "| Reasonable | Uses DFT to determine dominant frequency but lacks adaptive power mode switching. |\n",
        "| Good | Implements dynamic power mode selection based on temperature variations and DFT output. |\n",
        "| Excellent | Fully optimized system with smooth mode transitions and effective power management. |\n",
        "| Outstanding | Includes predictive sampling adjustments, trend analysis, and optimized boundary conditions for power mode switching. |\n"
      ]
    },
    {
      "cell_type": "markdown",
      "metadata": {
        "id": "iC9CG2zgWZoY"
      },
      "source": [
        "\n",
        "# **📌 Submission Requirement**\n",
        "To complete this assignment, students must upload below files in the shared Github account:\n",
        "1. Image for Arduino-Sensor Connection, submit a clear image of the Arduino hardware setup showing the temperature sensor wiring.(Save the image as a suitable file with the format, e.g., your_name_arduino_setup.jpg)\n",
        "2. Temperature Data (CSV File). Submit a .csv file containing time-domain temperature data & frequency domain results. (The file should be named threeminstemperature_Student_ID.csv).\n",
        "3. Jupyter Notebook Report. All code implementations, **explanations**, and outputs should be included in the Jupyter Notebook.\n",
        "4. Arduino Code (.ino file). Submit the Arduino IDE code as a separate .ino file.\n",
        "---"
      ]
    },
    {
      "cell_type": "markdown",
      "metadata": {
        "id": "YJHNHhqlWSOi"
      },
      "source": [
        "# **<END>**"
      ]
    },
    {
      "cell_type": "markdown",
      "metadata": {
        "id": "xJaUx7RIJpxQ"
      },
      "source": [
        "# **End of Workbook**"
      ]
    }
  ],
  "metadata": {
    "colab": {
      "collapsed_sections": [
        "yyqr3Qnn4GZu"
      ],
      "provenance": [],
      "toc_visible": true,
      "include_colab_link": true
    },
    "kernelspec": {
      "display_name": "Python 3",
      "language": "python",
      "name": "python3"
    },
    "language_info": {
      "codemirror_mode": {
        "name": "ipython",
        "version": 3
      },
      "file_extension": ".py",
      "mimetype": "text/x-python",
      "name": "python",
      "nbconvert_exporter": "python",
      "pygments_lexer": "ipython3",
      "version": "3.7.0"
    }
  },
  "nbformat": 4,
  "nbformat_minor": 0
}